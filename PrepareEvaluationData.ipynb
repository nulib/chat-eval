{
 "cells": [
  {
   "cell_type": "markdown",
   "metadata": {},
   "source": [
    "# Prepare Evaluation Data\n",
    "\n",
    "This notebook will help you set up an input file for running an evaluation using the [ScoreAnswers Notebook](ScoreAnswers.ipynb) (or in Azure).\n",
    "\n",
    "It will take a list of questions and get responses through DC API's chat endpoint\n",
    "\n",
    "- Input: A CSV file with a `question` and `ground_truth` column \n",
    "  - optionally a `context` column (for Azure evaluations)\n",
    "  - Note that for help in generating initial ground truths you can run a csv with just questions and then rename the answer column\n",
    "- Output: A `CSV` and a `JSONL` file which additionally has an `answer` field\n",
    "\n",
    "\n",
    "## Prerequisite: Setup Environment Variables\n",
    "\n",
    "- Save these two files to the current directory:  [.env.staging](https://github.com/nulib/miscellany/blob/main/chat-eval/.env.staging) and [.env.production](https://github.com/nulib/miscellany/blob/main/chat-eval/.env.production)\n",
    "- [Login to DCAPI](https://dcapi.rdc-staging.library.northwestern.edu/api/v2/auth/login?goto=https://dcapi.rdc-staging.library.northwestern.edu/api/v2/auth/token?ttl=604800) and copy the token value\n",
    "- replace `DC_API_TOKEN` value in both files \n",
    "- Token expires in 1 week. After updating your `.env` file you will need to __**restart the kernel**__\n"
   ]
  },
  {
   "cell_type": "markdown",
   "metadata": {},
   "source": [
    "## Setup the Environment\n",
    "\n",
    "First start by importing and setting up the libraries we need:"
   ]
  },
  {
   "cell_type": "code",
   "execution_count": 7,
   "metadata": {},
   "outputs": [
    {
     "name": "stdout",
     "output_type": "stream",
     "text": [
      "Requirement already satisfied: pandas in ./sanity-check/lib/python3.12/site-packages (2.2.2)\n",
      "Requirement already satisfied: numpy>=1.26.0 in ./sanity-check/lib/python3.12/site-packages (from pandas) (2.1.1)\n",
      "Requirement already satisfied: python-dateutil>=2.8.2 in ./sanity-check/lib/python3.12/site-packages (from pandas) (2.9.0.post0)\n",
      "Requirement already satisfied: pytz>=2020.1 in ./sanity-check/lib/python3.12/site-packages (from pandas) (2024.2)\n",
      "Requirement already satisfied: tzdata>=2022.7 in ./sanity-check/lib/python3.12/site-packages (from pandas) (2024.1)\n",
      "Requirement already satisfied: six>=1.5 in ./sanity-check/lib/python3.12/site-packages (from python-dateutil>=2.8.2->pandas) (1.16.0)\n",
      "Note: you may need to restart the kernel to use updated packages.\n",
      "Requirement already satisfied: requests in ./sanity-check/lib/python3.12/site-packages (2.32.3)\n",
      "Requirement already satisfied: charset-normalizer<4,>=2 in ./sanity-check/lib/python3.12/site-packages (from requests) (3.3.2)\n",
      "Requirement already satisfied: idna<4,>=2.5 in ./sanity-check/lib/python3.12/site-packages (from requests) (3.10)\n",
      "Requirement already satisfied: urllib3<3,>=1.21.1 in ./sanity-check/lib/python3.12/site-packages (from requests) (2.2.3)\n",
      "Requirement already satisfied: certifi>=2017.4.17 in ./sanity-check/lib/python3.12/site-packages (from requests) (2024.8.30)\n",
      "Note: you may need to restart the kernel to use updated packages.\n",
      "Requirement already satisfied: python-dotenv in ./sanity-check/lib/python3.12/site-packages (1.0.1)\n",
      "Note: you may need to restart the kernel to use updated packages.\n",
      "Requirement already satisfied: ipywidgets in ./sanity-check/lib/python3.12/site-packages (8.1.5)\n",
      "Requirement already satisfied: comm>=0.1.3 in ./sanity-check/lib/python3.12/site-packages (from ipywidgets) (0.2.2)\n",
      "Requirement already satisfied: ipython>=6.1.0 in ./sanity-check/lib/python3.12/site-packages (from ipywidgets) (8.27.0)\n",
      "Requirement already satisfied: traitlets>=4.3.1 in ./sanity-check/lib/python3.12/site-packages (from ipywidgets) (5.14.3)\n",
      "Requirement already satisfied: widgetsnbextension~=4.0.12 in ./sanity-check/lib/python3.12/site-packages (from ipywidgets) (4.0.13)\n",
      "Requirement already satisfied: jupyterlab-widgets~=3.0.12 in ./sanity-check/lib/python3.12/site-packages (from ipywidgets) (3.0.13)\n",
      "Requirement already satisfied: decorator in ./sanity-check/lib/python3.12/site-packages (from ipython>=6.1.0->ipywidgets) (5.1.1)\n",
      "Requirement already satisfied: jedi>=0.16 in ./sanity-check/lib/python3.12/site-packages (from ipython>=6.1.0->ipywidgets) (0.19.1)\n",
      "Requirement already satisfied: matplotlib-inline in ./sanity-check/lib/python3.12/site-packages (from ipython>=6.1.0->ipywidgets) (0.1.7)\n",
      "Requirement already satisfied: prompt-toolkit<3.1.0,>=3.0.41 in ./sanity-check/lib/python3.12/site-packages (from ipython>=6.1.0->ipywidgets) (3.0.47)\n",
      "Requirement already satisfied: pygments>=2.4.0 in ./sanity-check/lib/python3.12/site-packages (from ipython>=6.1.0->ipywidgets) (2.18.0)\n",
      "Requirement already satisfied: stack-data in ./sanity-check/lib/python3.12/site-packages (from ipython>=6.1.0->ipywidgets) (0.6.3)\n",
      "Requirement already satisfied: pexpect>4.3 in ./sanity-check/lib/python3.12/site-packages (from ipython>=6.1.0->ipywidgets) (4.9.0)\n",
      "Requirement already satisfied: parso<0.9.0,>=0.8.3 in ./sanity-check/lib/python3.12/site-packages (from jedi>=0.16->ipython>=6.1.0->ipywidgets) (0.8.4)\n",
      "Requirement already satisfied: ptyprocess>=0.5 in ./sanity-check/lib/python3.12/site-packages (from pexpect>4.3->ipython>=6.1.0->ipywidgets) (0.7.0)\n",
      "Requirement already satisfied: wcwidth in ./sanity-check/lib/python3.12/site-packages (from prompt-toolkit<3.1.0,>=3.0.41->ipython>=6.1.0->ipywidgets) (0.2.13)\n",
      "Requirement already satisfied: executing>=1.2.0 in ./sanity-check/lib/python3.12/site-packages (from stack-data->ipython>=6.1.0->ipywidgets) (2.1.0)\n",
      "Requirement already satisfied: asttokens>=2.1.0 in ./sanity-check/lib/python3.12/site-packages (from stack-data->ipython>=6.1.0->ipywidgets) (2.4.1)\n",
      "Requirement already satisfied: pure-eval in ./sanity-check/lib/python3.12/site-packages (from stack-data->ipython>=6.1.0->ipywidgets) (0.2.3)\n",
      "Requirement already satisfied: six>=1.12.0 in ./sanity-check/lib/python3.12/site-packages (from asttokens>=2.1.0->stack-data->ipython>=6.1.0->ipywidgets) (1.16.0)\n",
      "Note: you may need to restart the kernel to use updated packages.\n",
      "Requirement already satisfied: ipython in ./sanity-check/lib/python3.12/site-packages (8.27.0)\n",
      "Requirement already satisfied: decorator in ./sanity-check/lib/python3.12/site-packages (from ipython) (5.1.1)\n",
      "Requirement already satisfied: jedi>=0.16 in ./sanity-check/lib/python3.12/site-packages (from ipython) (0.19.1)\n",
      "Requirement already satisfied: matplotlib-inline in ./sanity-check/lib/python3.12/site-packages (from ipython) (0.1.7)\n",
      "Requirement already satisfied: prompt-toolkit<3.1.0,>=3.0.41 in ./sanity-check/lib/python3.12/site-packages (from ipython) (3.0.47)\n",
      "Requirement already satisfied: pygments>=2.4.0 in ./sanity-check/lib/python3.12/site-packages (from ipython) (2.18.0)\n",
      "Requirement already satisfied: stack-data in ./sanity-check/lib/python3.12/site-packages (from ipython) (0.6.3)\n",
      "Requirement already satisfied: traitlets>=5.13.0 in ./sanity-check/lib/python3.12/site-packages (from ipython) (5.14.3)\n",
      "Requirement already satisfied: pexpect>4.3 in ./sanity-check/lib/python3.12/site-packages (from ipython) (4.9.0)\n",
      "Requirement already satisfied: parso<0.9.0,>=0.8.3 in ./sanity-check/lib/python3.12/site-packages (from jedi>=0.16->ipython) (0.8.4)\n",
      "Requirement already satisfied: ptyprocess>=0.5 in ./sanity-check/lib/python3.12/site-packages (from pexpect>4.3->ipython) (0.7.0)\n",
      "Requirement already satisfied: wcwidth in ./sanity-check/lib/python3.12/site-packages (from prompt-toolkit<3.1.0,>=3.0.41->ipython) (0.2.13)\n",
      "Requirement already satisfied: executing>=1.2.0 in ./sanity-check/lib/python3.12/site-packages (from stack-data->ipython) (2.1.0)\n",
      "Requirement already satisfied: asttokens>=2.1.0 in ./sanity-check/lib/python3.12/site-packages (from stack-data->ipython) (2.4.1)\n",
      "Requirement already satisfied: pure-eval in ./sanity-check/lib/python3.12/site-packages (from stack-data->ipython) (0.2.3)\n",
      "Requirement already satisfied: six>=1.12.0 in ./sanity-check/lib/python3.12/site-packages (from asttokens>=2.1.0->stack-data->ipython) (1.16.0)\n",
      "Note: you may need to restart the kernel to use updated packages.\n"
     ]
    }
   ],
   "source": [
    "#install required packages\n",
    "%pip install pandas\n",
    "%pip install requests\n",
    "%pip install python-dotenv\n",
    "%pip install ipywidgets\n",
    "%pip install ipython\n",
    "\n",
    "# import required packages\n",
    "import pandas as pd\n",
    "import os\n",
    "import random\n",
    "import json, requests\n",
    "from datetime import datetime\n",
    "from dotenv import load_dotenv\n",
    "import ipywidgets as widgets\n",
    "import io\n",
    "from IPython.display import display"
   ]
  },
  {
   "cell_type": "markdown",
   "metadata": {},
   "source": [
    "## Select your environment\n",
    "\n",
    "Use the dropdown to select DCAPI's staging or production chat endpoint. (use staging unless you have a reason to use prod)"
   ]
  },
  {
   "cell_type": "code",
   "execution_count": 8,
   "metadata": {},
   "outputs": [
    {
     "data": {
      "application/vnd.jupyter.widget-view+json": {
       "model_id": "a31a146d5d8e4580bf8526fa678eb8b1",
       "version_major": 2,
       "version_minor": 0
      },
      "text/plain": [
       "Dropdown(description='Environment:', options=(('staging', '.env.staging'), ('production', '.env.production')),…"
      ]
     },
     "metadata": {},
     "output_type": "display_data"
    }
   ],
   "source": [
    "# run the cell, then use the dropdown to select your environment)\n",
    "env_to_use = widgets.Dropdown(\n",
    "    options=[('staging', '.env.staging'), ('production', '.env.production')],\n",
    "    description='Environment:',\n",
    ")\n",
    "\n",
    "display(env_to_use)"
   ]
  },
  {
   "cell_type": "markdown",
   "metadata": {},
   "source": [
    "## Make sure you're logged in"
   ]
  },
  {
   "cell_type": "code",
   "execution_count": 9,
   "metadata": {
    "scrolled": true
   },
   "outputs": [
    {
     "name": "stdout",
     "output_type": "stream",
     "text": [
      "You are logged in as ksd927 using staging environment.\n"
     ]
    }
   ],
   "source": [
    "# load environment variables\n",
    "load_dotenv(env_to_use.value)\n",
    "\n",
    "DC_CHAT_URL = os.getenv('DC_CHAT_URL')\n",
    "DC_API_TOKEN = os.getenv('DC_API_TOKEN')\n",
    "DC_API_WHOAMI = os.getenv('DC_API_WHOAMI')\n",
    "\n",
    "whoami_reponse = requests.get(DC_API_WHOAMI, params=None, headers={'Authorization': 'Bearer ' + DC_API_TOKEN})\n",
    "\n",
    "# confirm environment variables loaded correctly\n",
    "if (whoami_reponse.json().get('isLoggedIn') == True):\n",
    "    print(\"You are logged in as \" + whoami_reponse.json().get('sub') + \" using \" + env_to_use.label + \" environment.\")\n",
    "else:\n",
    "    print(\"ERROR: Please check your API token.\")"
   ]
  },
  {
   "cell_type": "markdown",
   "metadata": {},
   "source": [
    "## Configure your input file and load data\n",
    "\n",
    "Setup the input file name and make sure it is readable"
   ]
  },
  {
   "cell_type": "code",
   "execution_count": 10,
   "metadata": {},
   "outputs": [
    {
     "data": {
      "application/vnd.jupyter.widget-view+json": {
       "model_id": "283c6dc40e89406c880686260ee18a63",
       "version_major": 2,
       "version_minor": 0
      },
      "text/plain": [
       "FileUpload(value=(), accept='csv', description='Upload')"
      ]
     },
     "metadata": {},
     "output_type": "display_data"
    }
   ],
   "source": [
    "# Run cell, then use the file upload widget to your input file\n",
    "uploader = widgets.FileUpload(\n",
    "    accept='csv', \n",
    "    multiple=False  \n",
    ")\n",
    "\n",
    "display(uploader)"
   ]
  },
  {
   "cell_type": "code",
   "execution_count": 13,
   "metadata": {},
   "outputs": [
    {
     "data": {
      "text/html": [
       "<div>\n",
       "<style scoped>\n",
       "    .dataframe tbody tr th:only-of-type {\n",
       "        vertical-align: middle;\n",
       "    }\n",
       "\n",
       "    .dataframe tbody tr th {\n",
       "        vertical-align: top;\n",
       "    }\n",
       "\n",
       "    .dataframe thead th {\n",
       "        text-align: right;\n",
       "    }\n",
       "</style>\n",
       "<table border=\"1\" class=\"dataframe\">\n",
       "  <thead>\n",
       "    <tr style=\"text-align: right;\">\n",
       "      <th></th>\n",
       "      <th>question</th>\n",
       "      <th>ground_truth</th>\n",
       "    </tr>\n",
       "  </thead>\n",
       "  <tbody>\n",
       "    <tr>\n",
       "      <th>0</th>\n",
       "      <td>How did World War II propaganda posters influe...</td>\n",
       "      <td>World War II propaganda posters played a cruci...</td>\n",
       "    </tr>\n",
       "    <tr>\n",
       "      <th>1</th>\n",
       "      <td>What contributions did Achille Paganini make t...</td>\n",
       "      <td>The provided documents do not contain informat...</td>\n",
       "    </tr>\n",
       "    <tr>\n",
       "      <th>2</th>\n",
       "      <td>What role did Larry Hanks play in the folk mus...</td>\n",
       "      <td>Larry Hanks was an active participant in the f...</td>\n",
       "    </tr>\n",
       "    <tr>\n",
       "      <th>3</th>\n",
       "      <td>What were the key policies of Murtala Muhammed...</td>\n",
       "      <td>Murtala Muhammed's government in Nigeria focus...</td>\n",
       "    </tr>\n",
       "    <tr>\n",
       "      <th>4</th>\n",
       "      <td>How has the political map of Africa changed si...</td>\n",
       "      <td>The political map of Africa has undergone sign...</td>\n",
       "    </tr>\n",
       "  </tbody>\n",
       "</table>\n",
       "</div>"
      ],
      "text/plain": [
       "                                            question  \\\n",
       "0  How did World War II propaganda posters influe...   \n",
       "1  What contributions did Achille Paganini make t...   \n",
       "2  What role did Larry Hanks play in the folk mus...   \n",
       "3  What were the key policies of Murtala Muhammed...   \n",
       "4  How has the political map of Africa changed si...   \n",
       "\n",
       "                                        ground_truth  \n",
       "0  World War II propaganda posters played a cruci...  \n",
       "1  The provided documents do not contain informat...  \n",
       "2  Larry Hanks was an active participant in the f...  \n",
       "3  Murtala Muhammed's government in Nigeria focus...  \n",
       "4  The political map of Africa has undergone sign...  "
      ]
     },
     "execution_count": 13,
     "metadata": {},
     "output_type": "execute_result"
    }
   ],
   "source": [
    "# read the input file\n",
    "uploaded_file = uploader.value[0]\n",
    "questions = pd.read_csv(io.BytesIO(uploaded_file.content))\n",
    "\n",
    "# store the input filename in a variable\n",
    "input_filename = uploaded_file.name\n",
    "\n",
    "# preview the input file\n",
    "questions.head()"
   ]
  },
  {
   "cell_type": "markdown",
   "metadata": {},
   "source": [
    "## Load helper functions\n",
    "\n",
    "Run the cell so helper functions are loaded"
   ]
  },
  {
   "cell_type": "code",
   "execution_count": null,
   "metadata": {},
   "outputs": [],
   "source": [
    "# Setup: Functions to get an answer to the question\n",
    "\n",
    "def format_answer(response, with_context=False):\n",
    "    if with_context:\n",
    "        return pd.Series([response['answer'], response['context']])\n",
    "    else:\n",
    "        return response['answer']\n",
    "    \n",
    "def format_error(with_context=False):\n",
    "    if with_context:\n",
    "        return pd.Series([\"--ERROR--\", \"--ERROR--\"])\n",
    "    else:\n",
    "        return \"--ERROR--\"\n",
    "\n",
    "def get_answer(question, with_context=False):\n",
    "    url = DC_CHAT_URL\n",
    "    header = {'Content-Type': 'application/json'}\n",
    "    \n",
    "    body = {\n",
    "        'message': 'chat',\n",
    "        'auth': DC_API_TOKEN,\n",
    "        'ref': 'DEV-TEAM-TEST-' + str(random.random()),\n",
    "        \"question\": question\n",
    "    }\n",
    "    print(\"Asking question: \" + question)\n",
    "    \n",
    "    \n",
    "    try:\n",
    "        response = requests.post(url, json.dumps(body), headers=header)\n",
    "        response.raise_for_status()\n",
    "        print(f\"Response: {response.status_code}\")\n",
    "        if response.status_code != 200:\n",
    "            print('Status:', response.status_code, response.reason)\n",
    "            return format_error(with_context)\n",
    "        response_json = response.json()\n",
    "        return format_answer(response_json, with_context)\n",
    "    except Exception as err:\n",
    "        print(f\"Other error occurred: {err}\")\n",
    "        return format_error(with_context)\n",
    "    \n",
    "def get_answers(questions, with_context=False):\n",
    "    if with_context:\n",
    "       questions[['answer', 'context']] = questions['question'].apply(lambda x:get_answer(x, with_context))\n",
    "    else:\n",
    "        questions['answer'] = questions['question'].apply(lambda x:get_answer(x, with_context))\n",
    "        \n",
    "    print(\"Done\")\n",
    "    return questions"
   ]
  },
  {
   "cell_type": "markdown",
   "metadata": {},
   "source": [
    "## Generate the answers from DCAPI\n",
    "\n",
    "Configure `with_context` to whether you want to fetch context along with the answers\n",
    "\n",
    "Run the below to fetch answers (and optionally context)"
   ]
  },
  {
   "cell_type": "code",
   "execution_count": null,
   "metadata": {},
   "outputs": [],
   "source": [
    "# Run to getenerate answers (will take some time)\n",
    "\n",
    "# Set with_context to True if you want to get the context column along with the answer\n",
    "# (Needed for some of the Azure evaluations)\n",
    "with_context = False\n",
    "\n",
    "# get answers\n",
    "get_answers(questions, with_context)\n",
    "\n",
    "# preview answers\n",
    "questions.head()\n"
   ]
  },
  {
   "cell_type": "markdown",
   "metadata": {},
   "source": [
    "## Write the results to file\n",
    "\n",
    "It will write both `CSV` and `JSONL` files. (`JSONL` seems to be a little less buggy in Azure but YMMV)"
   ]
  },
  {
   "cell_type": "code",
   "execution_count": null,
   "metadata": {},
   "outputs": [],
   "source": [
    "# write the output files\n",
    "timestamp = datetime.now().strftime('%Y%m%d%H%M%S')\n",
    "os.makedirs(os.path.join('output_files', timestamp), exist_ok=True)\n",
    "output_base_path = f\"output_files/{timestamp}\"\n",
    "jsonl_filename = os.path.join(output_base_path, f\"{os.path.splitext(os.path.basename(input_filename))[0]}.jsonl\")\n",
    "\n",
    "outJson = questions.to_json(orient=\"records\", lines=True) \n",
    "with open(jsonl_filename, 'w') as outfile:\n",
    "    outfile.write(outJson)\n",
    "\n",
    "csv_filename = os.path.join(output_base_path, f\"{os.path.splitext(os.path.basename(input_filename))[0]}.csv\")\n",
    "questions.to_csv(csv_filename, index=False)\n",
    "\n",
    "print(f\"Output files saved to: {jsonl_filename} and {csv_filename}\")"
   ]
  }
 ],
 "metadata": {
  "kernelspec": {
   "display_name": "sanity-check",
   "language": "python",
   "name": "sanity-check"
  },
  "language_info": {
   "codemirror_mode": {
    "name": "ipython",
    "version": 3
   },
   "file_extension": ".py",
   "mimetype": "text/x-python",
   "name": "python",
   "nbconvert_exporter": "python",
   "pygments_lexer": "ipython3",
   "version": "3.12.2"
  }
 },
 "nbformat": 4,
 "nbformat_minor": 4
}
