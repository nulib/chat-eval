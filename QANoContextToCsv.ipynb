{
 "cells": [
  {
   "cell_type": "markdown",
   "metadata": {},
   "source": [
    "# Q+A w/out context\n",
    "\n",
    "This notebook will help you set up an input file (`CSV`) to use to run Azure OpenAI evaluation requiring data with `queston` and `answer` pairs. This is not designed to generate massive testing data but should work to generate spreadsheets with a few hundred (give or take) rows.\n",
    "\n",
    "### Prerequisites\n",
    "\n",
    "#### Input file\n",
    "\n",
    "`csv` file with one column (with a header of `question`). Save the input file in the `input_files` folder\n",
    " \n",
    "| question    | \n",
    "| -------- | \n",
    "| What color is green?  |\n",
    "| Where am I?           |\n",
    "| Do dogs like cats?    | \n",
    "\n",
    "\n",
    "\n",
    "#### Environment Variables\n",
    "\n",
    "You'll need to first create a `.env` file in the root of this directory containing values for `DC_CHAT_URL` and `DC_API_TOKEN` as shown in the `env.example` file. \n",
    "\n",
    "- To obtain the `DC_API_TOKEN` \n",
    "   - log into the Digital Collections website (either staging or production will work)\n",
    "   - then visit the corresponding staging or production API route and copy the token into the `.env` file\n",
    "     - Production: `https://api.dc.library.northwestern.edu/api/v2/auth/token`\n",
    "     - Staging: `https://dcapi.rdc-staging.library.northwestern.edu/api/v2/auth/token`\n",
    "   - Note that these tokens are by default good for 1 day so you'll need to redo these steps once it expires\n",
    "- `DC_CHAT_URL`: Decide whether you want to hit the production or staging endpoing and use one of these values:\n",
    "  - Staging `https://pimtkveo5ev4ld3ihe4qytadxe0jvcuz.lambda-url.us-east-1.on.aws`\n",
    "  - Production `https://hdtl6p2qzfxszvbhdb7dyunuxe0dgexo.lambda-url.us-east-1.on.aws`\n",
    "\n",
    "## Output\n",
    "\n",
    "CSV containing question and answer columns\n",
    "\n",
    "| question              | answer         |\n",
    "| --------              | -------        |\n",
    "| What color is green?  | Green.         |\n",
    "| Where am I?           | Here.          |\n",
    "| Do dogs like cats?    | No.            | \n"
   ]
  },
  {
   "cell_type": "code",
   "execution_count": null,
   "metadata": {},
   "outputs": [],
   "source": [
    "# install required packages\n",
    "\n",
    "%pip install requests"
   ]
  },
  {
   "cell_type": "code",
   "execution_count": 3,
   "metadata": {},
   "outputs": [],
   "source": [
    "# setup imports\n",
    "import os\n",
    "import random\n",
    "import json, requests\n",
    "import csv\n",
    "from requests.exceptions import HTTPError\n",
    "from datetime import datetime\n",
    "\n",
    "# load environment variables\n",
    "DC_CHAT_URL = os.getenv('DC_CHAT_URL')\n",
    "DC_API_TOKEN = os.getenv('DC_API_TOKEN')"
   ]
  },
  {
   "cell_type": "code",
   "execution_count": 4,
   "metadata": {},
   "outputs": [],
   "source": [
    "# put your input file inside the `input_files` folder\n",
    "# put your input filename here\n",
    "input_filename = '5-questions.csv'"
   ]
  },
  {
   "cell_type": "code",
   "execution_count": 5,
   "metadata": {},
   "outputs": [],
   "source": [
    "# function that fetches the chat responses\n",
    "\n",
    "def get_answer(question):\n",
    "    url = DC_CHAT_URL\n",
    "    header = {'Content-Type': 'application/json'}\n",
    "    \n",
    "    body = {\n",
    "        'message': 'chat',\n",
    "        'auth': DC_API_TOKEN,\n",
    "        'ref': 'DEV-TEAM-TEST-' + str(random.random()),\n",
    "        \"question\": question\n",
    "    }\n",
    "    print(\"Asking question: \" + question)\n",
    "    \n",
    "    \n",
    "    try:\n",
    "        response = requests.post(url, json.dumps(body), headers=header).json()\n",
    "        return response['answer']\n",
    "    except Exception as err:\n",
    "        print(f\"Other error occurred: {err}\")\n",
    "        return \"--ERROR--\" "
   ]
  },
  {
   "cell_type": "code",
   "execution_count": null,
   "metadata": {},
   "outputs": [],
   "source": [
    "# Run cell to generate file\n",
    "\n",
    "input_base_path = 'input_files/'\n",
    "output_base_path = 'output_files/'\n",
    "output_filename = os.path.join(output_base_path, f\"{os.path.splitext(input_filename)[0]}-{datetime.now().strftime(\"%Y%m%d%H%M%S\")}.csv\")\n",
    "csvfile = csv.DictReader(open(os.path.join(input_base_path, input_filename), \"r\", newline='', encoding='utf_8_sig') )\n",
    "\n",
    "with open(output_filename, \"w+\", newline='') as csv_file1:\n",
    "    fieldnames = ['question', 'answer']\n",
    "    writer = csv.DictWriter(csv_file1, fieldnames=fieldnames)\n",
    "    writer.writeheader()\n",
    "    for row in csvfile: \n",
    "        question = row['question']\n",
    "        answer = get_answer(question).replace(\"\\n\", \"\\\\n\")\n",
    "        row['answer'] = answer\n",
    "        writer.writerow(row)\n",
    "\n",
    "print(f\"\\n\\nSuccess. File written to: {output_filename}\")"
   ]
  }
 ],
 "metadata": {
  "kernelspec": {
   "display_name": "red-team-tests",
   "language": "python",
   "name": "python3"
  },
  "language_info": {
   "codemirror_mode": {
    "name": "ipython",
    "version": 3
   },
   "file_extension": ".py",
   "mimetype": "text/x-python",
   "name": "python",
   "nbconvert_exporter": "python",
   "pygments_lexer": "ipython3",
   "version": "3.12.4"
  }
 },
 "nbformat": 4,
 "nbformat_minor": 2
}
