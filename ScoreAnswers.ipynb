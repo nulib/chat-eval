{
 "cells": [
  {
   "cell_type": "markdown",
   "metadata": {},
   "source": [
    "# Score Answers\n",
    "\n",
    "This notebook provides a testing framework to evaluate responses from DC API's chat.\n",
    "\n",
    "For input, you'll need a csv file with `question`, `answer` and `ground_truth` columns. \n",
    "It will score the answers using an AWS Bedrock Claude model (either opus, haiku or sonnet) and produce a csv file additionally containing a `score`, `pass` (T/F) and `reason` columns.\n",
    "\n",
    "Code adapted from this [AWS sample notebook](https://github.com/aws-samples/llm-based-advanced-summarization/blob/main/Prompt%20Evaluation.ipynb)\n"
   ]
  },
  {
   "cell_type": "markdown",
   "metadata": {},
   "source": [
    "## Prerequisite: Login to AWS\n",
    "\n",
    "If you haven't already logged into AWS, close this notebook, then, in your terminal, from this project's directory, login to AWS. Once you're logged in, repopen the Jupyter notebook. For example: \n",
    "\n",
    "`export AWS_PROFILE=staging && aws sso login`\n",
    "\n",
    "`jupyter notebook`\n",
    "\n",
    "Then run the below cell to confirm your credentials are loaded"
   ]
  },
  {
   "cell_type": "code",
   "execution_count": 1,
   "metadata": {},
   "outputs": [
    {
     "name": "stdout",
     "output_type": "stream",
     "text": [
      "staging\n"
     ]
    }
   ],
   "source": [
    "import os\n",
    "\n",
    "#confirm that you have AWS credentials\n",
    "print(os.getenv('AWS_PROFILE'))"
   ]
  },
  {
   "cell_type": "markdown",
   "metadata": {},
   "source": [
    "## Setup the Environment\n",
    "\n",
    "First, install the libraries and import the packages we'll need.\n"
   ]
  },
  {
   "cell_type": "code",
   "execution_count": 2,
   "metadata": {},
   "outputs": [
    {
     "name": "stdout",
     "output_type": "stream",
     "text": [
      "Collecting boto3\n",
      "  Downloading boto3-1.35.23-py3-none-any.whl.metadata (6.6 kB)\n",
      "Collecting botocore<1.36.0,>=1.35.23 (from boto3)\n",
      "  Downloading botocore-1.35.23-py3-none-any.whl.metadata (5.7 kB)\n",
      "Collecting jmespath<2.0.0,>=0.7.1 (from boto3)\n",
      "  Using cached jmespath-1.0.1-py3-none-any.whl.metadata (7.6 kB)\n",
      "Collecting s3transfer<0.11.0,>=0.10.0 (from boto3)\n",
      "  Using cached s3transfer-0.10.2-py3-none-any.whl.metadata (1.7 kB)\n",
      "Requirement already satisfied: python-dateutil<3.0.0,>=2.1 in /opt/anaconda3/envs/test-chat-eval/lib/python3.12/site-packages (from botocore<1.36.0,>=1.35.23->boto3) (2.9.0.post0)\n",
      "Requirement already satisfied: urllib3!=2.2.0,<3,>=1.25.4 in /opt/anaconda3/envs/test-chat-eval/lib/python3.12/site-packages (from botocore<1.36.0,>=1.35.23->boto3) (2.2.3)\n",
      "Requirement already satisfied: six>=1.5 in /opt/anaconda3/envs/test-chat-eval/lib/python3.12/site-packages (from python-dateutil<3.0.0,>=2.1->botocore<1.36.0,>=1.35.23->boto3) (1.16.0)\n",
      "Downloading boto3-1.35.23-py3-none-any.whl (139 kB)\n",
      "Downloading botocore-1.35.23-py3-none-any.whl (12.6 MB)\n",
      "\u001b[2K   \u001b[38;2;114;156;31m━━━━━━━━━━━━━━━━━━━━━━━━━━━━━━━━━━━━━━━━\u001b[0m \u001b[32m12.6/12.6 MB\u001b[0m \u001b[31m4.8 MB/s\u001b[0m eta \u001b[36m0:00:00\u001b[0m[31m4.7 MB/s\u001b[0m eta \u001b[36m0:00:01\u001b[0m\n",
      "\u001b[?25hUsing cached jmespath-1.0.1-py3-none-any.whl (20 kB)\n",
      "Using cached s3transfer-0.10.2-py3-none-any.whl (82 kB)\n",
      "Installing collected packages: jmespath, botocore, s3transfer, boto3\n",
      "Successfully installed boto3-1.35.23 botocore-1.35.23 jmespath-1.0.1 s3transfer-0.10.2\n",
      "Note: you may need to restart the kernel to use updated packages.\n",
      "Collecting bs4\n",
      "  Using cached bs4-0.0.2-py2.py3-none-any.whl.metadata (411 bytes)\n",
      "Requirement already satisfied: beautifulsoup4 in /opt/anaconda3/envs/test-chat-eval/lib/python3.12/site-packages (from bs4) (4.12.3)\n",
      "Requirement already satisfied: soupsieve>1.2 in /opt/anaconda3/envs/test-chat-eval/lib/python3.12/site-packages (from beautifulsoup4->bs4) (2.6)\n",
      "Using cached bs4-0.0.2-py2.py3-none-any.whl (1.2 kB)\n",
      "Installing collected packages: bs4\n",
      "Successfully installed bs4-0.0.2\n",
      "Note: you may need to restart the kernel to use updated packages.\n",
      "Requirement already satisfied: ipywidgets in /opt/anaconda3/envs/test-chat-eval/lib/python3.12/site-packages (8.1.5)\n",
      "Requirement already satisfied: comm>=0.1.3 in /opt/anaconda3/envs/test-chat-eval/lib/python3.12/site-packages (from ipywidgets) (0.2.2)\n",
      "Requirement already satisfied: ipython>=6.1.0 in /opt/anaconda3/envs/test-chat-eval/lib/python3.12/site-packages (from ipywidgets) (8.27.0)\n",
      "Requirement already satisfied: traitlets>=4.3.1 in /opt/anaconda3/envs/test-chat-eval/lib/python3.12/site-packages (from ipywidgets) (5.14.3)\n",
      "Requirement already satisfied: widgetsnbextension~=4.0.12 in /opt/anaconda3/envs/test-chat-eval/lib/python3.12/site-packages (from ipywidgets) (4.0.13)\n",
      "Requirement already satisfied: jupyterlab-widgets~=3.0.12 in /opt/anaconda3/envs/test-chat-eval/lib/python3.12/site-packages (from ipywidgets) (3.0.13)\n",
      "Requirement already satisfied: decorator in /opt/anaconda3/envs/test-chat-eval/lib/python3.12/site-packages (from ipython>=6.1.0->ipywidgets) (5.1.1)\n",
      "Requirement already satisfied: jedi>=0.16 in /opt/anaconda3/envs/test-chat-eval/lib/python3.12/site-packages (from ipython>=6.1.0->ipywidgets) (0.19.1)\n",
      "Requirement already satisfied: matplotlib-inline in /opt/anaconda3/envs/test-chat-eval/lib/python3.12/site-packages (from ipython>=6.1.0->ipywidgets) (0.1.7)\n",
      "Requirement already satisfied: prompt-toolkit<3.1.0,>=3.0.41 in /opt/anaconda3/envs/test-chat-eval/lib/python3.12/site-packages (from ipython>=6.1.0->ipywidgets) (3.0.47)\n",
      "Requirement already satisfied: pygments>=2.4.0 in /opt/anaconda3/envs/test-chat-eval/lib/python3.12/site-packages (from ipython>=6.1.0->ipywidgets) (2.18.0)\n",
      "Requirement already satisfied: stack-data in /opt/anaconda3/envs/test-chat-eval/lib/python3.12/site-packages (from ipython>=6.1.0->ipywidgets) (0.6.3)\n",
      "Requirement already satisfied: pexpect>4.3 in /opt/anaconda3/envs/test-chat-eval/lib/python3.12/site-packages (from ipython>=6.1.0->ipywidgets) (4.9.0)\n",
      "Requirement already satisfied: parso<0.9.0,>=0.8.3 in /opt/anaconda3/envs/test-chat-eval/lib/python3.12/site-packages (from jedi>=0.16->ipython>=6.1.0->ipywidgets) (0.8.4)\n",
      "Requirement already satisfied: ptyprocess>=0.5 in /opt/anaconda3/envs/test-chat-eval/lib/python3.12/site-packages (from pexpect>4.3->ipython>=6.1.0->ipywidgets) (0.7.0)\n",
      "Requirement already satisfied: wcwidth in /opt/anaconda3/envs/test-chat-eval/lib/python3.12/site-packages (from prompt-toolkit<3.1.0,>=3.0.41->ipython>=6.1.0->ipywidgets) (0.2.13)\n",
      "Requirement already satisfied: executing>=1.2.0 in /opt/anaconda3/envs/test-chat-eval/lib/python3.12/site-packages (from stack-data->ipython>=6.1.0->ipywidgets) (2.1.0)\n",
      "Requirement already satisfied: asttokens>=2.1.0 in /opt/anaconda3/envs/test-chat-eval/lib/python3.12/site-packages (from stack-data->ipython>=6.1.0->ipywidgets) (2.4.1)\n",
      "Requirement already satisfied: pure-eval in /opt/anaconda3/envs/test-chat-eval/lib/python3.12/site-packages (from stack-data->ipython>=6.1.0->ipywidgets) (0.2.3)\n",
      "Requirement already satisfied: six>=1.12.0 in /opt/anaconda3/envs/test-chat-eval/lib/python3.12/site-packages (from asttokens>=2.1.0->stack-data->ipython>=6.1.0->ipywidgets) (1.16.0)\n",
      "Note: you may need to restart the kernel to use updated packages.\n",
      "Requirement already satisfied: ipython in /opt/anaconda3/envs/test-chat-eval/lib/python3.12/site-packages (8.27.0)\n",
      "Requirement already satisfied: decorator in /opt/anaconda3/envs/test-chat-eval/lib/python3.12/site-packages (from ipython) (5.1.1)\n",
      "Requirement already satisfied: jedi>=0.16 in /opt/anaconda3/envs/test-chat-eval/lib/python3.12/site-packages (from ipython) (0.19.1)\n",
      "Requirement already satisfied: matplotlib-inline in /opt/anaconda3/envs/test-chat-eval/lib/python3.12/site-packages (from ipython) (0.1.7)\n",
      "Requirement already satisfied: prompt-toolkit<3.1.0,>=3.0.41 in /opt/anaconda3/envs/test-chat-eval/lib/python3.12/site-packages (from ipython) (3.0.47)\n",
      "Requirement already satisfied: pygments>=2.4.0 in /opt/anaconda3/envs/test-chat-eval/lib/python3.12/site-packages (from ipython) (2.18.0)\n",
      "Requirement already satisfied: stack-data in /opt/anaconda3/envs/test-chat-eval/lib/python3.12/site-packages (from ipython) (0.6.3)\n",
      "Requirement already satisfied: traitlets>=5.13.0 in /opt/anaconda3/envs/test-chat-eval/lib/python3.12/site-packages (from ipython) (5.14.3)\n",
      "Requirement already satisfied: pexpect>4.3 in /opt/anaconda3/envs/test-chat-eval/lib/python3.12/site-packages (from ipython) (4.9.0)\n",
      "Requirement already satisfied: parso<0.9.0,>=0.8.3 in /opt/anaconda3/envs/test-chat-eval/lib/python3.12/site-packages (from jedi>=0.16->ipython) (0.8.4)\n",
      "Requirement already satisfied: ptyprocess>=0.5 in /opt/anaconda3/envs/test-chat-eval/lib/python3.12/site-packages (from pexpect>4.3->ipython) (0.7.0)\n",
      "Requirement already satisfied: wcwidth in /opt/anaconda3/envs/test-chat-eval/lib/python3.12/site-packages (from prompt-toolkit<3.1.0,>=3.0.41->ipython) (0.2.13)\n",
      "Requirement already satisfied: executing>=1.2.0 in /opt/anaconda3/envs/test-chat-eval/lib/python3.12/site-packages (from stack-data->ipython) (2.1.0)\n",
      "Requirement already satisfied: asttokens>=2.1.0 in /opt/anaconda3/envs/test-chat-eval/lib/python3.12/site-packages (from stack-data->ipython) (2.4.1)\n",
      "Requirement already satisfied: pure-eval in /opt/anaconda3/envs/test-chat-eval/lib/python3.12/site-packages (from stack-data->ipython) (0.2.3)\n",
      "Requirement already satisfied: six>=1.12.0 in /opt/anaconda3/envs/test-chat-eval/lib/python3.12/site-packages (from asttokens>=2.1.0->stack-data->ipython) (1.16.0)\n",
      "Note: you may need to restart the kernel to use updated packages.\n"
     ]
    }
   ],
   "source": [
    "%pip install boto3\n",
    "%pip install bs4\n",
    "%pip install ipywidgets\n",
    "%pip install ipython\n",
    "\n",
    "import boto3, time, json, csv\n",
    "import json, os\n",
    "from urllib.parse import urljoin\n",
    "from botocore.config import Config\n",
    "from datetime import datetime\n",
    "from bs4 import BeautifulSoup as BS\n",
    "import ipywidgets as widgets\n",
    "import io\n",
    "import pandas as pd"
   ]
  },
  {
   "cell_type": "code",
   "execution_count": 3,
   "metadata": {},
   "outputs": [],
   "source": [
    "#increase the standard time out limits in boto3, because Bedrock may take a while to respond to large requests.\n",
    "my_config = Config(\n",
    "    connect_timeout=60*3,\n",
    "    read_timeout=60*3,\n",
    ")\n",
    "bedrock = boto3.client(service_name='bedrock-runtime',config=my_config)\n",
    "bedrock_service = boto3.client(service_name='bedrock',config=my_config)"
   ]
  },
  {
   "cell_type": "markdown",
   "metadata": {},
   "source": [
    "### Verify the Bedrock Connection"
   ]
  },
  {
   "cell_type": "code",
   "execution_count": 4,
   "metadata": {},
   "outputs": [
    {
     "name": "stdout",
     "output_type": "stream",
     "text": [
      "Claude-v3 found!\n"
     ]
    }
   ],
   "source": [
    "#check that it's working:\n",
    "models = bedrock_service.list_foundation_models()\n",
    "for line in models[\"modelSummaries\"]:\n",
    "    # print this out if you want to see all the models you have access to.\n",
    "    # print (line[\"modelId\"])\n",
    "    pass\n",
    "if \"anthropic.claude-3\" in str(models):\n",
    "    print(\"Claude-v3 found!\")\n",
    "else:\n",
    "    print (\"Error, no model found.\")"
   ]
  },
  {
   "cell_type": "markdown",
   "metadata": {},
   "source": [
    "## Configure variables"
   ]
  },
  {
   "cell_type": "code",
   "execution_count": 5,
   "metadata": {},
   "outputs": [
    {
     "data": {
      "application/vnd.jupyter.widget-view+json": {
       "model_id": "94066bd1f63447e7be98f6fe6586fd07",
       "version_major": 2,
       "version_minor": 0
      },
      "text/plain": [
       "Dropdown(description='Environment:', options=('sonnet', 'haiku', 'opus'), value='sonnet')"
      ]
     },
     "metadata": {},
     "output_type": "display_data"
    }
   ],
   "source": [
    "# run the cell, then use the dropdown to select which Claude model to use)\n",
    "selected_model = widgets.Dropdown(\n",
    "    options=['sonnet', 'haiku', 'opus'],\n",
    "    description='Environment:',\n",
    ")\n",
    "\n",
    "display(selected_model)"
   ]
  },
  {
   "cell_type": "code",
   "execution_count": 6,
   "metadata": {},
   "outputs": [
    {
     "data": {
      "application/vnd.jupyter.widget-view+json": {
       "model_id": "13ac94bde1074cb9b34fec185203984d",
       "version_major": 2,
       "version_minor": 0
      },
      "text/plain": [
       "FileUpload(value=(), accept='csv', description='Upload')"
      ]
     },
     "metadata": {},
     "output_type": "display_data"
    }
   ],
   "source": [
    "# Tip: Use your output file from the PrepareEvaluationData notebook\n",
    "uploader = widgets.FileUpload(\n",
    "    accept='csv', \n",
    "    multiple=False  \n",
    ")\n",
    "\n",
    "display(uploader)"
   ]
  },
  {
   "cell_type": "code",
   "execution_count": 7,
   "metadata": {},
   "outputs": [
    {
     "data": {
      "application/vnd.jupyter.widget-view+json": {
       "model_id": "c710e8fb9a0e49a89bd02e95615aadbd",
       "version_major": 2,
       "version_minor": 0
      },
      "text/plain": [
       "IntSlider(value=90, continuous_update=False, description='Threshold:', step=5)"
      ]
     },
     "metadata": {},
     "output_type": "display_data"
    }
   ],
   "source": [
    "# Run the cell, then use the slider to define what score would be passing score (0-100)\n",
    "selected_threshold = widgets.IntSlider(\n",
    "    value=90,\n",
    "    min=0,\n",
    "    max=100,\n",
    "    step=5,\n",
    "    description='Threshold:',\n",
    "    disabled=False,\n",
    "    continuous_update=False,\n",
    "    orientation='horizontal',\n",
    "    readout=True,\n",
    "    readout_format='d'\n",
    ")\n",
    "display(selected_threshold)"
   ]
  },
  {
   "cell_type": "markdown",
   "metadata": {},
   "source": [
    "## Create helper functions\n",
    "\n",
    "Run all cells in this block to load the helper functions we'll need"
   ]
  },
  {
   "cell_type": "code",
   "execution_count": 8,
   "metadata": {},
   "outputs": [],
   "source": [
    "model_version = selected_model.value # set the model_version from selected value\n",
    "threshold_to_pass = selected_threshold.value\n",
    "MAX_ATTEMPTS = 3 #how many times to retry if Claude is not working.\n",
    "session_cache = {} #for this session, do not repeat the same query to claude.\n",
    "def ask_claude(messages,system=\"\", DEBUG=False, model_version=\"haiku\"):\n",
    "    '''\n",
    "    Send a prompt to Bedrock, and return the response.  Debug is used to see exactly what is being sent to and from Bedrock.\n",
    "    messages can be an array of role/message pairs, or a string.\n",
    "    '''\n",
    "    raw_prompt_text = str(messages)\n",
    "    \n",
    "    if type(messages)==str:\n",
    "        messages = [{\"role\": \"user\", \"content\": messages}]\n",
    "    \n",
    "    promt_json = {\n",
    "        \"system\":system,\n",
    "        \"messages\": messages,\n",
    "        \"max_tokens\": 3000,\n",
    "        \"temperature\": 0.7,\n",
    "        \"anthropic_version\":\"\",\n",
    "        \"top_k\": 250,\n",
    "        \"top_p\": 0.7,\n",
    "        \"stop_sequences\": [\"\\n\\nHuman:\"]\n",
    "    }\n",
    "    \n",
    "    if DEBUG: print(\"sending:\\nSystem:\\n\",system,\"\\nMessages:\\n\",\"\\n\".join(messages))\n",
    "    \n",
    "    if model_version== \"opus\":\n",
    "        modelId = 'anthropic.claude-3-opus-20240229-v1:0'\n",
    "    elif model_version== \"sonnet\":\n",
    "        modelId = 'anthropic.claude-3-5-sonnet-20240620-v1:0'\n",
    "    elif model_version== \"haiku\":\n",
    "        modelId = 'anthropic.claude-3-haiku-20240307-v1:0'\n",
    "    else:\n",
    "        print (\"ERROR:  Bad model version, must be opus, sonnet, or haiku.\")\n",
    "        modelId = 'error'\n",
    "    \n",
    "    if raw_prompt_text in session_cache:\n",
    "        return [raw_prompt_text,session_cache[raw_prompt_text]]\n",
    "    attempt = 1\n",
    "    while True:\n",
    "        try:\n",
    "            response = bedrock.invoke_model(body=json.dumps(promt_json), modelId=modelId, accept='application/json', contentType='application/json')\n",
    "            response_body = json.loads(response.get('body').read())\n",
    "            results = response_body.get(\"content\")[0].get(\"text\")\n",
    "            if DEBUG:print(\"Recieved:\",results)\n",
    "            break\n",
    "        except Exception as e:\n",
    "            print(\"Error with calling Bedrock: \"+str(e))\n",
    "            attempt+=1\n",
    "            if attempt>MAX_ATTEMPTS:\n",
    "                print(\"Max attempts reached!\")\n",
    "                results = str(e)\n",
    "                break\n",
    "            else:#retry in 10 seconds\n",
    "                time.sleep(10)\n",
    "    session_cache[raw_prompt_text] = results\n",
    "    return [raw_prompt_text,results]"
   ]
  },
  {
   "cell_type": "code",
   "execution_count": 14,
   "metadata": {},
   "outputs": [],
   "source": [
    "from queue import Queue\n",
    "from threading import Thread\n",
    "\n",
    "# Threaded function for queue processing.\n",
    "def thread_request(q, result, model):\n",
    "    while not q.empty():\n",
    "        work = q.get()                      #fetch new work from the Queue\n",
    "        thread_start_time = time.time()\n",
    "        try:\n",
    "            data = ask_claude(work[1], model)\n",
    "            result[work[0]] = data          #Store data back at correct index\n",
    "        except Exception as e:\n",
    "            error_time = time.time()\n",
    "            print('Error with prompt!',str(e))\n",
    "            result[work[0]] = (str(e))\n",
    "        #signal to the queue that task has been processed\n",
    "        q.task_done()\n",
    "    return True\n",
    "\n",
    "def ask_claude_threaded(prompts, model, DEBUG=False):\n",
    "    '''\n",
    "    Call ask_claude, but multi-threaded.\n",
    "    Returns a dict of the prompts and responces.\n",
    "    '''\n",
    "    print(f\"Using model: {model}...\")\n",
    "    q = Queue(maxsize=0)\n",
    "    num_theads = min(50, len(prompts))\n",
    "    \n",
    "    #Populating Queue with tasks\n",
    "    results = [{} for x in prompts];\n",
    "    #load up the queue with the promts to fetch and the index for each job (as a tuple):\n",
    "    for i in range(len(prompts)):\n",
    "        #need the index and the url in each queue item.\n",
    "        q.put((i,prompts[i]))\n",
    "        \n",
    "    #Starting worker threads on queue processing\n",
    "    for i in range(num_theads):\n",
    "        #print('Starting thread ', i)\n",
    "        worker = Thread(target=thread_request, daemon=True, args=(q,results, model))\n",
    "        # worker.setDaemon(True)    #setting threads as \"daemon\" allows main program to \n",
    "                                  #exit eventually even if these dont finish \n",
    "                                  #correctly.\n",
    "        worker.start()\n",
    "\n",
    "    #now we wait until the queue has been processed\n",
    "    q.join()\n",
    "\n",
    "    # if DEBUG:print('All tasks completed.')\n",
    "    print('All tasks completed.')\n",
    "    return results"
   ]
  },
  {
   "cell_type": "code",
   "execution_count": 9,
   "metadata": {},
   "outputs": [],
   "source": [
    "scoring_prompt_template = \"\"\"You are a grader.  Consider the following question along with its correct answer or ground truth and a submitted answer to grade.\n",
    "Here is the question:\n",
    "<question>{{QUESTION}}</question>\n",
    "Here is the correct answer:\n",
    "<ground_truth>{{GROUND_TRUTH}}</ground_truth>\n",
    "Here is the submitted answer:\n",
    "<answer>{{ANSWER}}</answer>\n",
    "Please provide a score from 0 to 100 on how well this answer matches the correct answer for this question.\n",
    "The score should be high if the answers say essentially the same thing.\n",
    "The score should be lower if some facts are missing or incorrect, or if extra unnecessary facts have been included.\n",
    "The score should be 0 for entirely wrong answers.  Put the score in <SCORE> tags. and your reasoning in <REASON> tags.\n",
    "Do not consider your own answer to the question, but instead score based on the ground_truth above.\"\"\""
   ]
  },
  {
   "cell_type": "code",
   "execution_count": 10,
   "metadata": {},
   "outputs": [],
   "source": [
    "# create the score answers function\n",
    "def score_answers(prompt_template, question_answers, model):\n",
    "    '''\n",
    "    ask our LLM to score each of the generated answers.\n",
    "    '''\n",
    "    \n",
    "    prompts = []\n",
    "    for question in question_answers:  \n",
    "        print(f\"Scoring: {question['question']}...\")\n",
    "        prompts.append(scoring_prompt_template.replace(\"{{QUESTION}}\", question[\"question\"]).replace(\"{{GROUND_TRUTH}}\",question[\"ground_truth\"]).replace(\"{{ANSWER}}\",question[\"answer\"]))\n",
    "    return ask_claude_threaded(prompts, model)"
   ]
  },
  {
   "cell_type": "code",
   "execution_count": 11,
   "metadata": {},
   "outputs": [],
   "source": [
    "# create the function to score the answers\n",
    "def evaluate_prompt(prompt_template, question_answers, threshhold):\n",
    "    \"\"\"\n",
    "    Call score answers and format the results once all threads have returned.\n",
    "    \"\"\"\n",
    "    scored_answers = score_answers(prompt_template, question_answers, model_version)\n",
    "    print (\"Done.\")\n",
    "    \n",
    "    scores = []\n",
    "    scores.append(['question','ground_truth','answer','score','reason','passed'])\n",
    "    for prompt,response in scored_answers:\n",
    "        soup = BS(prompt)\n",
    "        question = soup.find('question').text\n",
    "        ground_truth = soup.find('ground_truth').text\n",
    "        answer = soup.find('answer').text\n",
    "        soup = BS(response)\n",
    "        score = soup.find('score').text\n",
    "        reason = soup.find('reason').text\n",
    "        passed = True\n",
    "        if int(score)<threshhold:\n",
    "            passed = False\n",
    "        scores.append([question,ground_truth,answer,score,reason,passed])\n",
    "        \n",
    "    return scores"
   ]
  },
  {
   "cell_type": "markdown",
   "metadata": {},
   "source": [
    "## Test that it's working (optional)"
   ]
  },
  {
   "cell_type": "code",
   "execution_count": 12,
   "metadata": {},
   "outputs": [
    {
     "name": "stdout",
     "output_type": "stream",
     "text": [
      "Please say the number four.\n",
      "Four.\n",
      "CPU times: user 51.9 ms, sys: 5.96 ms, total: 57.9 ms\n",
      "Wall time: 554 ms\n"
     ]
    }
   ],
   "source": [
    "%%time\n",
    "#check that Claude responses are working:\n",
    "try:\n",
    "    query = \"Please say the number four.\"\n",
    "    result = ask_claude(query)\n",
    "    print(query)\n",
    "    print(result[1])\n",
    "except Exception as e:\n",
    "    print(\"Error with calling Claude: \"+str(e))"
   ]
  },
  {
   "cell_type": "code",
   "execution_count": 15,
   "metadata": {},
   "outputs": [
    {
     "name": "stdout",
     "output_type": "stream",
     "text": [
      "Using model: opus...\n",
      "All tasks completed.\n",
      "[[\"[{'role': 'user', 'content': 'Please say the number one.'}]\", '1'], [\"[{'role': 'user', 'content': 'Please say the number two.'}]\", 'Two.'], [\"[{'role': 'user', 'content': 'Please say the number 55.'}]\", '55.']]\n",
      "CPU times: user 108 ms, sys: 10.4 ms, total: 118 ms\n",
      "Wall time: 563 ms\n"
     ]
    }
   ],
   "source": [
    "%%time\n",
    "#test if our threaded Claude calls are working\n",
    "q1 = [{\"role\": \"user\", \"content\": \"Please say the number one.\"}]\n",
    "q2 = [{\"role\": \"user\", \"content\": \"Please say the number two.\"}]\n",
    "q3 = [{\"role\": \"user\", \"content\": \"Please say the number 55.\"}]\n",
    "\n",
    "print(ask_claude_threaded([q1,q2,q3], 'opus'))"
   ]
  },
  {
   "cell_type": "code",
   "execution_count": 16,
   "metadata": {},
   "outputs": [
    {
     "name": "stdout",
     "output_type": "stream",
     "text": [
      "Scoring: What color is green?...\n",
      "Scoring: Where am I?...\n",
      "Scoring: Do dogs like cats?...\n",
      "Using model: sonnet...\n",
      "All tasks completed.\n",
      "[[\"You are a grader.  Consider the following question along with its correct answer or ground truth and a submitted answer to grade.\\nHere is the question:\\n<question>What color is green?</question>\\nHere is the correct answer:\\n<ground_truth>It's green</ground_truth>\\nHere is the submitted answer:\\n<answer>It's between yellow and blue and can be grassy or olive</answer>\\nPlease provide a score from 0 to 100 on how well this answer matches the correct answer for this question.\\nThe score should be high if the answers say essentially the same thing.\\nThe score should be lower if some facts are missing or incorrect, or if extra unnecessary facts have been included.\\nThe score should be 0 for entirely wrong answers.  Put the score in <SCORE> tags. and your reasoning in <REASON> tags.\\nDo not consider your own answer to the question, but instead score based on the ground_truth above.\", '<SCORE>50</SCORE>\\n<REASON>The submitted answer provides a more detailed description of the color green, including that it can be grassy or olive in tone. However, it does not directly state that green is the color being described, which is the key information in the ground truth answer. The submitted answer is not entirely wrong, but it does not directly match the concise and accurate ground truth answer.</REASON>'], ['You are a grader.  Consider the following question along with its correct answer or ground truth and a submitted answer to grade.\\nHere is the question:\\n<question>Where am I?</question>\\nHere is the correct answer:\\n<ground_truth>Here.</ground_truth>\\nHere is the submitted answer:\\n<answer>You are neither here nor there. You are everywhere.</answer>\\nPlease provide a score from 0 to 100 on how well this answer matches the correct answer for this question.\\nThe score should be high if the answers say essentially the same thing.\\nThe score should be lower if some facts are missing or incorrect, or if extra unnecessary facts have been included.\\nThe score should be 0 for entirely wrong answers.  Put the score in <SCORE> tags. and your reasoning in <REASON> tags.\\nDo not consider your own answer to the question, but instead score based on the ground_truth above.', '<SCORE>20</SCORE>\\n<REASON>The submitted answer does not directly address the question \"Where am I?\". Instead, it provides a philosophical statement about being everywhere, which is not the same as the correct answer \"Here.\" The submitted answer includes additional information that is not relevant to the question asked. Therefore, the answer does not closely match the ground truth, and a score of 20 is appropriate.</REASON>'], ['You are a grader.  Consider the following question along with its correct answer or ground truth and a submitted answer to grade.\\nHere is the question:\\n<question>Do dogs like cats?</question>\\nHere is the correct answer:\\n<ground_truth>No.</ground_truth>\\nHere is the submitted answer:\\n<answer>More than cats like dogs.</answer>\\nPlease provide a score from 0 to 100 on how well this answer matches the correct answer for this question.\\nThe score should be high if the answers say essentially the same thing.\\nThe score should be lower if some facts are missing or incorrect, or if extra unnecessary facts have been included.\\nThe score should be 0 for entirely wrong answers.  Put the score in <SCORE> tags. and your reasoning in <REASON> tags.\\nDo not consider your own answer to the question, but instead score based on the ground_truth above.', '<SCORE>20</SCORE>\\n<REASON>The submitted answer does not directly answer the question \"Do dogs like cats?\". Instead, it compares how much dogs and cats like each other, which is not the same as a direct answer to the question. The correct answer is simply \"No\", indicating that dogs do not like cats. The submitted answer includes additional information that is not directly relevant to the question asked.</REASON>']]\n"
     ]
    }
   ],
   "source": [
    "# Test with a fake question set\n",
    "test_question_set = [\n",
    "    {'question': \"What color is green?\", 'ground_truth': \"It's green\", \"answer\": \"It's between yellow and blue and can be grassy or olive\"},\n",
    "    {'question': \"Where am I?\", 'ground_truth': \"Here.\", \"answer\": \"You are neither here nor there. You are everywhere.\"},\n",
    "    {'question': \"Do dogs like cats?\", 'ground_truth': \"No.\", \"answer\": \"More than cats like dogs.\"}\n",
    "]\n",
    "\n",
    "fake_result = score_answers(scoring_prompt_template, test_question_set, model_version)\n",
    "print(fake_result)"
   ]
  },
  {
   "cell_type": "markdown",
   "metadata": {},
   "source": [
    "## Score the answers and write output file"
   ]
  },
  {
   "cell_type": "code",
   "execution_count": 17,
   "metadata": {},
   "outputs": [
    {
     "name": "stdout",
     "output_type": "stream",
     "text": [
      "[{'question': 'How did World War II propaganda posters influence public opinion and morale during the war?', 'ground_truth': \"World War II propaganda posters played a crucial role in influencing public opinion and boosting morale. They used striking visuals and compelling messages to convey the importance of unity, sacrifice, and support for the war effort. The [World War II Poster Collection](https://dc.library.northwestern.edu/collections/faf4f60e-78e0-4fbf-96ce-4ca8b4df597a) includes over 300 posters issued by various U.S. government agencies, emphasizing different themes:\\r\\n\\r\\n1. **Unity and Resistance**: Posters like [We French workers warn you: defeat means slavery, starvation, death](https://dc.library.northwestern.edu/items/52f515bd-2ee8-49da-aec0-92eb3f5b5e07) depicted the dire consequences of defeat to foster unity and resistance among Americans.\\r\\n   \\r\\n2. **Production and Labor**: Posters such as [Your ore packs a punch!](https://dc.library.northwestern.edu/items/1792fa95-dbe0-488b-bb09-6d2416b1325e) and [Kinda give it your personal attention, will you?: more production](https://dc.library.northwestern.edu/items/b64eefac-d63a-43f6-a4e6-bcdd62222f3f) encouraged increased production and labor contribution, appealing directly to workers' sense of duty and patriotism.\\r\\n\\r\\n3. **Resource Conservation**: Posters like [Order coal now!: keep warm next winter](https://dc.library.northwestern.edu/items/54f31f79-71f8-4204-965b-4e17ec05c576) emphasized the importance of conserving materials for the war effort, appealing to civilians to contribute to the war through resource management.\\r\\n\\r\\n4. **Financial Support**: The campaign detailed in [A war message from the Treasury Department to promote the sale of U.S. defense bonds, stamps, through voluntary cooperative advertising](https://dc.library.northwestern.edu/items/91632222-dc37-4e30-a390-54c953dab1c1) aimed at garnering financial support by encouraging the purchase of war bonds.\\r\\n\\r\\nFor further research, explore keywords such as [Home efforts](https://dc.library.northwestern.edu/search?q=Home+efforts), [Defense work](https://dc.library.northwestern.edu/search?q=Defense+work), and [War posters, American](https://dc.library.northwestern.edu/search?q=War+posters%2C+American). The [World War II Poster Collection](https://dc.library.northwestern.edu/collections/faf4f60e-78e0-4fbf-96ce-4ca8b4df597a) is particularly relevant for understanding the full scope and impact of these propaganda efforts.\", 'answer': 'World War II propaganda posters played a crucial role in influencing public opinion and boosting morale by utilizing powerful imagery and messages to unite the American people. For instance, the poster [We French workers warn you: --defeat means slavery, starvation, death](https://dc.library.northwestern.edu/items/52f515bd-2ee8-49da-aec0-92eb3f5b5e07) depicted the harsh realities of defeat to motivate resistance against the Axis powers. Similarly, [Your ore packs a punch!](https://dc.library.northwestern.edu/items/1792fa95-dbe0-488b-bb09-6d2416b1325e) encouraged industrial workers by showing their essential role in the war effort.\\n\\nPosters like [Order coal now! : keep warm next winter](https://dc.library.northwestern.edu/items/54f31f79-71f8-4204-965b-4e17ec05c576) promoted resource conservation, emphasizing the importance of home front contributions. The [A war message from the Treasury Department to promote the sale of U.S. defense bonds, stamps, through voluntary cooperative advertising](https://dc.library.northwestern.edu/items/91632222-dc37-4e30-a390-54c953dab1c1) example demonstrates how advertising was used to encourage financial support for the war.\\n\\nThese posters, part of the [World War II Poster Collection](https://dc.library.northwestern.edu/collections/faf4f60e-78e0-4fbf-96ce-4ca8b4df597a), were essential in mobilizing resources, fostering unity, and maintaining high morale among civilians and soldiers alike.\\n\\nFor more insights, consider searching for [Home efforts](https://dc.library.northwestern.edu/search?q=Home+efforts), [Defense work](https://dc.library.northwestern.edu/search?q=Defense+work), or [War bonds](https://dc.library.northwestern.edu/search?q=War+bonds).'}, {'question': 'What contributions did Achille Paganini make to music, and how did his work influence later composers?', 'ground_truth': 'The provided documents do not contain information about Achille Paganini. However, they do provide insights into related musical figures and projects, such as the [Oscar Ghiglia and friends concert, 30 March 2003](https://dc.rdc-staging.library.northwestern.edu/items/bbb4d3e1-6390-4222-92c3-13874cd87b2b) featuring works by Nicolo Paganini, a prominent violinist and composer whose influence extended into the 19th century. To explore the impact of Nicolo Paganini on later composers and music, consider researching his compositions and their performance history.\\r\\n\\r\\nFor a broader study, investigate the [John Cage Notations Project Collection](https://dc.library.northwestern.edu/collections/76d480c3-8536-42c8-87e7-eba697ac0b30), which offers insights into the notational practices of 20th-century composers and their influences. This collection includes correspondence and manuscripts from a wide array of composers, potentially highlighting the influence of earlier figures like Paganini on modern music notation and composition practices.\\r\\n\\r\\nYou may also explore specific keywords for further research:\\r\\n- [Nicolo Paganini](https://dc.library.northwestern.edu/search?q=Nicolo+Paganini)\\r\\n- [John Cage](https://dc.library.northwestern.edu/search?q=John+Cage)\\r\\n- [19th Century Music](https://dc.library.northwestern.edu/search?q=19th+Century+Music)\\r\\n- [Violin Composers](https://dc.library.northwestern.edu/search?q=Violin+Composers)', 'answer': 'The documents provided do not explicitly mention Achille Paganini. However, they do reference his father, Niccolò Paganini, who greatly influenced music through his virtuosic violin performances and compositions. Niccolò Paganini\\'s work, like the \"Terzetto for violin, cello, and guitar,\" is featured in the [Oscar Ghiglia and friends concert, 30 March 2003](https://dc.rdc-staging.library.northwestern.edu/items/bbb4d3e1-6390-4222-92c3-13874cd87b2b). His techniques and compositions pushed the boundaries of violin playing and inspired later composers such as Franz Liszt and Johannes Brahms.\\n\\nFor further exploration, consider searching terms like [Niccolò Paganini](https://dc.library.northwestern.edu/search?q=Niccol%C3%B2+Paganini) and [virtuoso violin](https://dc.library.northwestern.edu/search?q=virtuoso+violin).\\n\\nRelevant collections include the [Northwestern University Bienen School of Music Concert Recordings](https://dc.library.northwestern.edu/collections/0fa71404-cc94-4a51-be46-6124ebf0d201), which documents significant musical performances and [John Cage Notations Project Collection](https://dc.library.northwestern.edu/collections/76d480c3-8536-42c8-87e7-eba697ac0b30), offering insights into avant-garde music notation practices.'}, {'question': 'What role did Larry Hanks play in the folk music revival, and what are some of his most influential performances?', 'ground_truth': \"Larry Hanks was an active participant in the folk music revival, particularly through his performances at the Berkeley Folk Music Festival. His influential performances include those at the 1964 and 1966 festivals, notably:\\r\\n\\r\\n1. **Berkeley Folk Music Festival 1964**: Larry Hanks performed on stage at this event, contributing to the festival's celebration of folk music ([Larry Hanks, Berkeley Folk Music Festival](https://dc.rdc-staging.library.northwestern.edu/items/8e89f3b3-3593-4ce8-84d1-00a7220d5b42)).\\r\\n\\r\\n2. **Berkeley Folk Music Festival 1966**: Hanks performed multiple times, including a notable cabaret performance at the Bear's Lair ([Larry Hanks, 1966 Berkeley Folk Music Festival](https://dc.rdc-staging.library.northwestern.edu/items/51a9f23a-a6e7-4790-bf55-e8785b5f283e)).\\r\\n\\r\\nFor further exploration, you can search for more about the [Berkeley Folk Music Festival](https://dc.library.northwestern.edu/search?q=Berkeley%20Folk%20Music%20Festival) and [Larry Hanks](https://dc.library.northwestern.edu/search?q=Larry%20Hanks) in the [Berkeley Folk Music Festival](https://dc.library.northwestern.edu/collections/18ec4c6b-192a-4ab8-9903-ea0f393c35f7) collection.\", 'answer': \"Larry Hanks was a significant figure in the folk music revival, particularly through his performances at the Berkeley Folk Music Festival. He performed at multiple editions of the festival, including the 7th in 1964 and the 9th in 1966. Notably, he performed on stage during the main events and also at cabarets, such as the one at the Bear's Lair bar during the 1966 festival. \\n\\nFor more information, you can refer to these documents:\\n\\n1. [Larry Hanks, Berkeley Folk Music Festival](https://dc.library.northwestern.edu/items/8e89f3b3-3593-4ce8-84d1-00a7220d5b42)\\n2. [Larry Hanks, Berkeley Folk Music Festival](https://dc.library.northwestern.edu/items/72a71ec4-40b1-4dbb-91af-ccedb735d860)\\n3. [Larry Hanks, 1966 Berkeley Folk Music Festival](https://dc.library.northwestern.edu/items/51a9f23a-a6e7-4790-bf55-e8785b5f283e)\\n4. [Larry Hanks, 1966 Berkeley Folk Music Festival](https://dc.library.northwestern.edu/items/e2f2ba8a-74ac-42a9-aabf-384cdd7a75e9)\\n5. [Larry Hanks, 1966 Berkeley Folk Music Festival](https://dc.library.northwestern.edu/items/bbd5e9f7-ba25-4b53-ad22-9ba109a0cbeb)\\n\\nThe [Berkeley Folk Music Festival](https://dc.library.northwestern.edu/collections/18ec4c6b-192a-4ab8-9903-ea0f393c35f7) collection is particularly relevant for understanding his impact and the broader context of the folk music revival. \\n\\nFor keyword searches, try:\\n- [Larry Hanks](https://dc.library.northwestern.edu/search?q=Larry+Hanks)\\n- [Berkeley Folk Music Festival](https://dc.library.northwestern.edu/search?q=Berkeley+Folk+Music+Festival)\\n- [Folk music revival](https://dc.library.northwestern.edu/search?q=Folk+music+revival)\"}, {'question': \"What were the key policies of Murtala Muhammed's government in Nigeria, and how did his leadership impact the country?\", 'ground_truth': \"Murtala Muhammed's government in Nigeria focused on anti-corruption measures, public sector reforms, and a shift towards a more centralized federal administration. His leadership was marked by decisive actions such as the dismissal of many government officials accused of corruption, and a strong push to improve efficiency in public services. Muhammed's tenure also saw plans for the relocation of the federal capital from Lagos to Abuja to better distribute economic development across the country. \\r\\n\\r\\nFor more details, you can explore the collections [Vernon McKay Photographs](https://dc.library.northwestern.edu/collections/1d849df1-eb32-43f4-b7b9-e435cff18f7c) and [Posters from the Herskovits Library](https://dc.library.northwestern.edu/collections/87099ea1-eef0-42d2-a3d2-7b203dc3774c).\\r\\n\\r\\n### Suggested Keyword Searches:\\r\\n- [Murtala Muhammed](https://dc.library.northwestern.edu/search?q=Murtala+Muhammed)\\r\\n- [Nigerian government reforms](https://dc.library.northwestern.edu/search?q=Nigerian+government+reforms)\\r\\n- [Nigeria history 1970s](https://dc.library.northwestern.edu/search?q=Nigeria+history+1970s)\", 'answer': \"Murtala Muhammed's government in Nigeria focused on several key policies, including governmental reforms and anti-corruption measures. His leadership was marked by a commitment to curbing corruption and implementing a more efficient public administration system. Muhammed's rule significantly impacted Nigeria by promoting a sense of accountability and transparency within the government. \\n\\nFor more detailed insights, consider exploring the following documents:\\n- [The head of state, Brigadier Murtala Ramat Muhammed, with state military governors](https://dc.library.northwestern.edu/items/fff99000-c2ec-4018-806d-73e3dac92577)\\n- [Nigeria at a glance: facts, figures and photos](https://dc.library.northwestern.edu/items/e350559a-9317-4d87-93ab-72749c6a385d)\\n\\nRelevant collections for further study include the [Vernon McKay Photographs](https://dc.library.northwestern.edu/collections/1d849df1-eb32-43f4-b7b9-e435cff18f7c) and [Posters from the Herskovits Library](https://dc.library.northwestern.edu/collections/87099ea1-eef0-42d2-a3d2-7b203dc3774c), which provide valuable context on Nigerian political history and leadership during this period. \\n\\nKeyword searches for more information could include [Murtala Muhammed](https://dc.library.northwestern.edu/search?q=Murtala+Muhammed), [Nigerian government](https://dc.library.northwestern.edu/search?q=Nigerian+government), and [anti-corruption](https://dc.library.northwestern.edu/search?q=anti-corruption).\"}, {'question': 'How has the political map of Africa changed since the 19th century, and what historical events have driven these changes?', 'ground_truth': 'The political map of Africa has undergone significant changes since the 19th century, primarily driven by European colonization and subsequent decolonization. \\r\\n\\r\\nIn the 19th century, maps like [Karte von Afrika](https://dc.library.northwestern.edu/items/ccfa5745-8328-4819-ae67-5f6ccef84ae3) (1888) depict Africa with European colonial territories such as German colonies. The map includes insets showing German territories like Lüderitz-Land and Kamerun-Gebiet, reflecting the \"Scramble for Africa\" period where European powers divided the continent.\\r\\n\\r\\nBy the mid-20th century, these colonial maps were replaced by maps showing independent African nations. For instance, maps in the [16th-Early 20th Century Maps of Africa](https://dc.library.northwestern.edu/collections/1c2e2200-c12d-4c7f-8b87-a935c349898a) collection, such as [A new map of Africa](https://dc.library.northwestern.edu/items/7a58ca98-d709-4d4d-8b9c-5b5074c780e9) (1805), highlight the shift from colonial divisions to national boundaries following decolonization movements in the 1950s and 1960s.\\r\\n\\r\\nKey historical events driving these changes include the Berlin Conference (1884-1885), which formalized European claims to African territories, and the wave of independence movements post-World War II, leading to the establishment of sovereign African states.\\r\\n\\r\\nFor detailed studies, explore maps by conducting keyword searches such as [Africa 19th Century](https://dc.library.northwestern.edu/search?q=Africa+19th+Century) and [Colonial Maps](https://dc.library.northwestern.edu/search?q=Colonial+Maps). The [16th-Early 20th Century Maps of Africa](https://dc.library.northwestern.edu/collections/1c2e2200-c12d-4c7f-8b87-a935c349898a) collection is particularly relevant for understanding these transformations.', 'answer': 'The political map of Africa has undergone significant changes since the 19th century, driven primarily by European colonization and later by the decolonization movements of the mid-20th century.\\n\\n1. **19th Century European Colonization**:\\n    - Maps like [Karte von Afrika](https://dc.library.northwestern.edu/items/ccfa5745-8328-4819-ae67-5f6ccef84ae3) (1888) highlight the division of Africa into territories controlled by European powers such as Germany, France, and Britain. This period is characterized by the \"Scramble for Africa,\" where European nations competed to annex large parts of the continent.\\n\\n2. **Decolonization**:\\n    - Following World War II, a wave of independence movements swept across Africa, leading to the collapse of colonial empires and the formation of new sovereign states. This is reflected in the shift from maps like [A new and accurate map of Africa](https://dc.library.northwestern.edu/items/ba8b6ce8-103e-4dc4-92b8-31ad56e28511) (circa 1777-1778), which depict European colonial territories, to more modern maps showing independent nations.\\n\\n3. **Significant Historical Events**:\\n    - The Berlin Conference of 1884-1885 formalized the \"Scramble for Africa,\" resulting in the arbitrary division of the continent among European powers.\\n    - The rise of independence movements in the mid-20th century, inspired by global decolonization trends and fueled by World War II\\'s aftermath, led to the independence of numerous African countries between the 1950s and 1970s.\\n\\nFor a deeper exploration of these changes, consider searching for [colonial Africa](https://dc.library.northwestern.edu/search?q=colonial+Africa) and [decolonization](https://dc.library.northwestern.edu/search?q=decolonization) in the [16th-Early 20th Century Maps of Africa](https://dc.library.northwestern.edu/collections/1c2e2200-c12d-4c7f-8b87-a935c349898a) collection. This collection is particularly relevant as it includes maps from the period of colonization to early independence, offering a comprehensive view of Africa\\'s political evolution.'}]\n"
     ]
    }
   ],
   "source": [
    "# load the input data\n",
    "uploaded_file = uploader.value[0]\n",
    "input_filename = uploaded_file.name\n",
    "csv_file = pd.read_csv(io.BytesIO(uploaded_file.content))\n",
    "question_set = csv_file.to_dict(orient='records')\n",
    "\n",
    "# verify it's loaded\n",
    "print(question_set)"
   ]
  },
  {
   "cell_type": "code",
   "execution_count": 18,
   "metadata": {},
   "outputs": [
    {
     "name": "stdout",
     "output_type": "stream",
     "text": [
      "Scoring: How did World War II propaganda posters influence public opinion and morale during the war?...\n",
      "Scoring: What contributions did Achille Paganini make to music, and how did his work influence later composers?...\n",
      "Scoring: What role did Larry Hanks play in the folk music revival, and what are some of his most influential performances?...\n",
      "Scoring: What were the key policies of Murtala Muhammed's government in Nigeria, and how did his leadership impact the country?...\n",
      "Scoring: How has the political map of Africa changed since the 19th century, and what historical events have driven these changes?...\n",
      "Using model: sonnet...\n",
      "All tasks completed.\n",
      "Done.\n"
     ]
    }
   ],
   "source": [
    "# Run the evaluation\n",
    "scores = evaluate_prompt(scoring_prompt_template, question_set,threshhold=threshold_to_pass)"
   ]
  },
  {
   "cell_type": "code",
   "execution_count": 19,
   "metadata": {},
   "outputs": [
    {
     "name": "stdout",
     "output_type": "stream",
     "text": [
      "[['question', 'ground_truth', 'answer', 'score', 'reason', 'passed'], ['How did World War II propaganda posters influence public opinion and morale during the war?', \"World War II propaganda posters played a crucial role in influencing public opinion and boosting morale. They used striking visuals and compelling messages to convey the importance of unity, sacrifice, and support for the war effort. The [World War II Poster Collection](https://dc.library.northwestern.edu/collections/faf4f60e-78e0-4fbf-96ce-4ca8b4df597a) includes over 300 posters issued by various U.S. government agencies, emphasizing different themes:\\r\\n\\r\\n1. **Unity and Resistance**: Posters like [We French workers warn you: defeat means slavery, starvation, death](https://dc.library.northwestern.edu/items/52f515bd-2ee8-49da-aec0-92eb3f5b5e07) depicted the dire consequences of defeat to foster unity and resistance among Americans.\\r\\n   \\r\\n2. **Production and Labor**: Posters such as [Your ore packs a punch!](https://dc.library.northwestern.edu/items/1792fa95-dbe0-488b-bb09-6d2416b1325e) and [Kinda give it your personal attention, will you?: more production](https://dc.library.northwestern.edu/items/b64eefac-d63a-43f6-a4e6-bcdd62222f3f) encouraged increased production and labor contribution, appealing directly to workers' sense of duty and patriotism.\\r\\n\\r\\n3. **Resource Conservation**: Posters like [Order coal now!: keep warm next winter](https://dc.library.northwestern.edu/items/54f31f79-71f8-4204-965b-4e17ec05c576) emphasized the importance of conserving materials for the war effort, appealing to civilians to contribute to the war through resource management.\\r\\n\\r\\n4. **Financial Support**: The campaign detailed in [A war message from the Treasury Department to promote the sale of U.S. defense bonds, stamps, through voluntary cooperative advertising](https://dc.library.northwestern.edu/items/91632222-dc37-4e30-a390-54c953dab1c1) aimed at garnering financial support by encouraging the purchase of war bonds.\\r\\n\\r\\nFor further research, explore keywords such as [Home efforts](https://dc.library.northwestern.edu/search?q=Home+efforts), [Defense work](https://dc.library.northwestern.edu/search?q=Defense+work), and [War posters, American](https://dc.library.northwestern.edu/search?q=War+posters%2C+American). The [World War II Poster Collection](https://dc.library.northwestern.edu/collections/faf4f60e-78e0-4fbf-96ce-4ca8b4df597a) is particularly relevant for understanding the full scope and impact of these propaganda efforts.\", 'World War II propaganda posters played a crucial role in influencing public opinion and boosting morale by utilizing powerful imagery and messages to unite the American people. For instance, the poster [We French workers warn you: --defeat means slavery, starvation, death](https://dc.library.northwestern.edu/items/52f515bd-2ee8-49da-aec0-92eb3f5b5e07) depicted the harsh realities of defeat to motivate resistance against the Axis powers. Similarly, [Your ore packs a punch!](https://dc.library.northwestern.edu/items/1792fa95-dbe0-488b-bb09-6d2416b1325e) encouraged industrial workers by showing their essential role in the war effort.\\n\\nPosters like [Order coal now! : keep warm next winter](https://dc.library.northwestern.edu/items/54f31f79-71f8-4204-965b-4e17ec05c576) promoted resource conservation, emphasizing the importance of home front contributions. The [A war message from the Treasury Department to promote the sale of U.S. defense bonds, stamps, through voluntary cooperative advertising](https://dc.library.northwestern.edu/items/91632222-dc37-4e30-a390-54c953dab1c1) example demonstrates how advertising was used to encourage financial support for the war.\\n\\nThese posters, part of the [World War II Poster Collection](https://dc.library.northwestern.edu/collections/faf4f60e-78e0-4fbf-96ce-4ca8b4df597a), were essential in mobilizing resources, fostering unity, and maintaining high morale among civilians and soldiers alike.\\n\\nFor more insights, consider searching for [Home efforts](https://dc.library.northwestern.edu/search?q=Home+efforts), [Defense work](https://dc.library.northwestern.edu/search?q=Defense+work), or [War bonds](https://dc.library.northwestern.edu/search?q=War+bonds).', '90', 'The submitted answer covers the key points of the correct answer, including the role of World War II propaganda posters in influencing public opinion and boosting morale, the use of striking visuals and compelling messages, and the various themes and campaigns depicted in the posters (unity and resistance, production and labor, resource conservation, and financial support). The submitted answer provides relevant examples of specific posters and their messages, aligning closely with the information in the correct answer. The only minor difference is that the submitted answer does not go into as much detail on the specific themes and campaigns, but it still captures the essence of the correct answer. Overall, the submitted answer is a strong and accurate representation of the key points in the correct answer.', True], ['What contributions did Achille Paganini make to music, and how did his work influence later composers?', 'The provided documents do not contain information about Achille Paganini. However, they do provide insights into related musical figures and projects, such as the [Oscar Ghiglia and friends concert, 30 March 2003](https://dc.rdc-staging.library.northwestern.edu/items/bbb4d3e1-6390-4222-92c3-13874cd87b2b) featuring works by Nicolo Paganini, a prominent violinist and composer whose influence extended into the 19th century. To explore the impact of Nicolo Paganini on later composers and music, consider researching his compositions and their performance history.\\r\\n\\r\\nFor a broader study, investigate the [John Cage Notations Project Collection](https://dc.library.northwestern.edu/collections/76d480c3-8536-42c8-87e7-eba697ac0b30), which offers insights into the notational practices of 20th-century composers and their influences. This collection includes correspondence and manuscripts from a wide array of composers, potentially highlighting the influence of earlier figures like Paganini on modern music notation and composition practices.\\r\\n\\r\\nYou may also explore specific keywords for further research:\\r\\n- [Nicolo Paganini](https://dc.library.northwestern.edu/search?q=Nicolo+Paganini)\\r\\n- [John Cage](https://dc.library.northwestern.edu/search?q=John+Cage)\\r\\n- [19th Century Music](https://dc.library.northwestern.edu/search?q=19th+Century+Music)\\r\\n- [Violin Composers](https://dc.library.northwestern.edu/search?q=Violin+Composers)', 'The documents provided do not explicitly mention Achille Paganini. However, they do reference his father, Niccolò Paganini, who greatly influenced music through his virtuosic violin performances and compositions. Niccolò Paganini\\'s work, like the \"Terzetto for violin, cello, and guitar,\" is featured in the [Oscar Ghiglia and friends concert, 30 March 2003](https://dc.rdc-staging.library.northwestern.edu/items/bbb4d3e1-6390-4222-92c3-13874cd87b2b). His techniques and compositions pushed the boundaries of violin playing and inspired later composers such as Franz Liszt and Johannes Brahms.\\n\\nFor further exploration, consider searching terms like [Niccolò Paganini](https://dc.library.northwestern.edu/search?q=Niccol%C3%B2+Paganini) and [virtuoso violin](https://dc.library.northwestern.edu/search?q=virtuoso+violin).\\n\\nRelevant collections include the [Northwestern University Bienen School of Music Concert Recordings](https://dc.library.northwestern.edu/collections/0fa71404-cc94-4a51-be46-6124ebf0d201), which documents significant musical performances and [John Cage Notations Project Collection](https://dc.library.northwestern.edu/collections/76d480c3-8536-42c8-87e7-eba697ac0b30), offering insights into avant-garde music notation practices.', '90', 'The submitted answer correctly identifies that the provided documents do not mention Achille Paganini, but instead reference his father, Niccolò Paganini, and his significant influence on music through his virtuosic violin performances and compositions. The answer also correctly notes that Niccolò Paganini\\'s work, such as the \"Terzetto for violin, cello, and guitar,\" is featured in the Oscar Ghiglia and friends concert, and that his techniques and compositions inspired later composers like Liszt and Brahms. The only minor difference is that the submitted answer does not explicitly state that the ground truth does not contain information about Achille Paganini, but this is implied. Overall, the submitted answer closely matches the key points in the ground truth, with only a small amount of additional context provided.', True], ['What role did Larry Hanks play in the folk music revival, and what are some of his most influential performances?', \"Larry Hanks was an active participant in the folk music revival, particularly through his performances at the Berkeley Folk Music Festival. His influential performances include those at the 1964 and 1966 festivals, notably:\\r\\n\\r\\n1. **Berkeley Folk Music Festival 1964**: Larry Hanks performed on stage at this event, contributing to the festival's celebration of folk music ([Larry Hanks, Berkeley Folk Music Festival](https://dc.rdc-staging.library.northwestern.edu/items/8e89f3b3-3593-4ce8-84d1-00a7220d5b42)).\\r\\n\\r\\n2. **Berkeley Folk Music Festival 1966**: Hanks performed multiple times, including a notable cabaret performance at the Bear's Lair ([Larry Hanks, 1966 Berkeley Folk Music Festival](https://dc.rdc-staging.library.northwestern.edu/items/51a9f23a-a6e7-4790-bf55-e8785b5f283e)).\\r\\n\\r\\nFor further exploration, you can search for more about the [Berkeley Folk Music Festival](https://dc.library.northwestern.edu/search?q=Berkeley%20Folk%20Music%20Festival) and [Larry Hanks](https://dc.library.northwestern.edu/search?q=Larry%20Hanks) in the [Berkeley Folk Music Festival](https://dc.library.northwestern.edu/collections/18ec4c6b-192a-4ab8-9903-ea0f393c35f7) collection.\", \"Larry Hanks was a significant figure in the folk music revival, particularly through his performances at the Berkeley Folk Music Festival. He performed at multiple editions of the festival, including the 7th in 1964 and the 9th in 1966. Notably, he performed on stage during the main events and also at cabarets, such as the one at the Bear's Lair bar during the 1966 festival. \\n\\nFor more information, you can refer to these documents:\\n\\n1. [Larry Hanks, Berkeley Folk Music Festival](https://dc.library.northwestern.edu/items/8e89f3b3-3593-4ce8-84d1-00a7220d5b42)\\n2. [Larry Hanks, Berkeley Folk Music Festival](https://dc.library.northwestern.edu/items/72a71ec4-40b1-4dbb-91af-ccedb735d860)\\n3. [Larry Hanks, 1966 Berkeley Folk Music Festival](https://dc.library.northwestern.edu/items/51a9f23a-a6e7-4790-bf55-e8785b5f283e)\\n4. [Larry Hanks, 1966 Berkeley Folk Music Festival](https://dc.library.northwestern.edu/items/e2f2ba8a-74ac-42a9-aabf-384cdd7a75e9)\\n5. [Larry Hanks, 1966 Berkeley Folk Music Festival](https://dc.library.northwestern.edu/items/bbd5e9f7-ba25-4b53-ad22-9ba109a0cbeb)\\n\\nThe [Berkeley Folk Music Festival](https://dc.library.northwestern.edu/collections/18ec4c6b-192a-4ab8-9903-ea0f393c35f7) collection is particularly relevant for understanding his impact and the broader context of the folk music revival. \\n\\nFor keyword searches, try:\\n- [Larry Hanks](https://dc.library.northwestern.edu/search?q=Larry+Hanks)\\n- [Berkeley Folk Music Festival](https://dc.library.northwestern.edu/search?q=Berkeley+Folk+Music+Festival)\\n- [Folk music revival](https://dc.library.northwestern.edu/search?q=Folk+music+revival)\", '90', \"The submitted answer accurately captures the key points about Larry Hanks' role in the folk music revival, particularly his performances at the Berkeley Folk Music Festival in 1964 and 1966. The answer provides details on the specific events and performances, and also directs the reader to relevant sources for further information. The only minor difference is that the submitted answer includes a few additional links that are not present in the ground truth, but this does not detract from the overall accuracy of the response. Overall, the submitted answer is very well-aligned with the correct information provided in the ground truth.\", True], [\"What were the key policies of Murtala Muhammed's government in Nigeria, and how did his leadership impact the country?\", \"Murtala Muhammed's government in Nigeria focused on anti-corruption measures, public sector reforms, and a shift towards a more centralized federal administration. His leadership was marked by decisive actions such as the dismissal of many government officials accused of corruption, and a strong push to improve efficiency in public services. Muhammed's tenure also saw plans for the relocation of the federal capital from Lagos to Abuja to better distribute economic development across the country. \\r\\n\\r\\nFor more details, you can explore the collections [Vernon McKay Photographs](https://dc.library.northwestern.edu/collections/1d849df1-eb32-43f4-b7b9-e435cff18f7c) and [Posters from the Herskovits Library](https://dc.library.northwestern.edu/collections/87099ea1-eef0-42d2-a3d2-7b203dc3774c).\\r\\n\\r\\n### Suggested Keyword Searches:\\r\\n- [Murtala Muhammed](https://dc.library.northwestern.edu/search?q=Murtala+Muhammed)\\r\\n- [Nigerian government reforms](https://dc.library.northwestern.edu/search?q=Nigerian+government+reforms)\\r\\n- [Nigeria history 1970s](https://dc.library.northwestern.edu/search?q=Nigeria+history+1970s)\", \"Murtala Muhammed's government in Nigeria focused on several key policies, including governmental reforms and anti-corruption measures. His leadership was marked by a commitment to curbing corruption and implementing a more efficient public administration system. Muhammed's rule significantly impacted Nigeria by promoting a sense of accountability and transparency within the government. \\n\\nFor more detailed insights, consider exploring the following documents:\\n- [The head of state, Brigadier Murtala Ramat Muhammed, with state military governors](https://dc.library.northwestern.edu/items/fff99000-c2ec-4018-806d-73e3dac92577)\\n- [Nigeria at a glance: facts, figures and photos](https://dc.library.northwestern.edu/items/e350559a-9317-4d87-93ab-72749c6a385d)\\n\\nRelevant collections for further study include the [Vernon McKay Photographs](https://dc.library.northwestern.edu/collections/1d849df1-eb32-43f4-b7b9-e435cff18f7c) and [Posters from the Herskovits Library](https://dc.library.northwestern.edu/collections/87099ea1-eef0-42d2-a3d2-7b203dc3774c), which provide valuable context on Nigerian political history and leadership during this period. \\n\\nKeyword searches for more information could include [Murtala Muhammed](https://dc.library.northwestern.edu/search?q=Murtala+Muhammed), [Nigerian government](https://dc.library.northwestern.edu/search?q=Nigerian+government), and [anti-corruption](https://dc.library.northwestern.edu/search?q=anti-corruption).\", '90', \"The submitted answer accurately captures the key policies of Murtala Muhammed's government, including anti-corruption measures and public sector reforms. It also highlights the impact of his leadership in promoting accountability and transparency within the Nigerian government. The answer provides relevant details and suggests additional resources for further study. While it does not go into as much depth as the ground truth on the relocation of the federal capital, the overall coverage of the key points is very good, warranting a high score.\", True], ['How has the political map of Africa changed since the 19th century, and what historical events have driven these changes?', 'The political map of Africa has undergone significant changes since the 19th century, primarily driven by European colonization and subsequent decolonization. \\r\\n\\r\\nIn the 19th century, maps like [Karte von Afrika](https://dc.library.northwestern.edu/items/ccfa5745-8328-4819-ae67-5f6ccef84ae3) (1888) depict Africa with European colonial territories such as German colonies. The map includes insets showing German territories like Lüderitz-Land and Kamerun-Gebiet, reflecting the \"Scramble for Africa\" period where European powers divided the continent.\\r\\n\\r\\nBy the mid-20th century, these colonial maps were replaced by maps showing independent African nations. For instance, maps in the [16th-Early 20th Century Maps of Africa](https://dc.library.northwestern.edu/collections/1c2e2200-c12d-4c7f-8b87-a935c349898a) collection, such as [A new map of Africa](https://dc.library.northwestern.edu/items/7a58ca98-d709-4d4d-8b9c-5b5074c780e9) (1805), highlight the shift from colonial divisions to national boundaries following decolonization movements in the 1950s and 1960s.\\r\\n\\r\\nKey historical events driving these changes include the Berlin Conference (1884-1885), which formalized European claims to African territories, and the wave of independence movements post-World War II, leading to the establishment of sovereign African states.\\r\\n\\r\\nFor detailed studies, explore maps by conducting keyword searches such as [Africa 19th Century](https://dc.library.northwestern.edu/search?q=Africa+19th+Century) and [Colonial Maps](https://dc.library.northwestern.edu/search?q=Colonial+Maps). The [16th-Early 20th Century Maps of Africa](https://dc.library.northwestern.edu/collections/1c2e2200-c12d-4c7f-8b87-a935c349898a) collection is particularly relevant for understanding these transformations.', 'The political map of Africa has undergone significant changes since the 19th century, driven primarily by European colonization and later by the decolonization movements of the mid-20th century.\\n\\n1. **19th Century European Colonization**:\\n    - Maps like [Karte von Afrika](https://dc.library.northwestern.edu/items/ccfa5745-8328-4819-ae67-5f6ccef84ae3) (1888) highlight the division of Africa into territories controlled by European powers such as Germany, France, and Britain. This period is characterized by the \"Scramble for Africa,\" where European nations competed to annex large parts of the continent.\\n\\n2. **Decolonization**:\\n    - Following World War II, a wave of independence movements swept across Africa, leading to the collapse of colonial empires and the formation of new sovereign states. This is reflected in the shift from maps like [A new and accurate map of Africa](https://dc.library.northwestern.edu/items/ba8b6ce8-103e-4dc4-92b8-31ad56e28511) (circa 1777-1778), which depict European colonial territories, to more modern maps showing independent nations.\\n\\n3. **Significant Historical Events**:\\n    - The Berlin Conference of 1884-1885 formalized the \"Scramble for Africa,\" resulting in the arbitrary division of the continent among European powers.\\n    - The rise of independence movements in the mid-20th century, inspired by global decolonization trends and fueled by World War II\\'s aftermath, led to the independence of numerous African countries between the 1950s and 1970s.\\n\\nFor a deeper exploration of these changes, consider searching for [colonial Africa](https://dc.library.northwestern.edu/search?q=colonial+Africa) and [decolonization](https://dc.library.northwestern.edu/search?q=decolonization) in the [16th-Early 20th Century Maps of Africa](https://dc.library.northwestern.edu/collections/1c2e2200-c12d-4c7f-8b87-a935c349898a) collection. This collection is particularly relevant as it includes maps from the period of colonization to early independence, offering a comprehensive view of Africa\\'s political evolution.', '90', 'The submitted answer accurately captures the key points of the correct answer, including the changes in the political map of Africa due to European colonization in the 19th century and the subsequent decolonization movements in the mid-20th century. The answer also mentions the significant historical events that drove these changes, such as the Berlin Conference and the rise of independence movements. The only minor difference is that the submitted answer does not go into as much detail as the correct answer, but it still covers the essential information. Overall, the submitted answer is a very good match to the correct answer.', True]]\n"
     ]
    }
   ],
   "source": [
    "# sanity check (can take a second)\n",
    "print(scores)"
   ]
  },
  {
   "cell_type": "code",
   "execution_count": 20,
   "metadata": {},
   "outputs": [
    {
     "name": "stdout",
     "output_type": "stream",
     "text": [
      "Output file saved to: output_files/scored/20240920081752/5_realistic_with_ground_truth.csv\n"
     ]
    }
   ],
   "source": [
    "# write to file\n",
    "\n",
    "timestamp = datetime.now().strftime('%Y%m%d%H%M%S')\n",
    "os.makedirs(os.path.join('output_files/scored', timestamp), exist_ok=True)\n",
    "output_base_path = f\"output_files/scored/{timestamp}\"\n",
    "filename = os.path.join(output_base_path, f\"{os.path.splitext(os.path.basename(input_filename))[0]}.csv\")\n",
    "\n",
    "with open(filename, 'w', newline='') as f:\n",
    "    writer = csv.writer(f)\n",
    "    writer.writerows(scores)\n",
    "\n",
    "print(f\"Output file saved to: {filename}\")"
   ]
  },
  {
   "cell_type": "code",
   "execution_count": null,
   "metadata": {},
   "outputs": [],
   "source": []
  }
 ],
 "metadata": {
  "kernelspec": {
   "display_name": "test-chat-eval",
   "language": "python",
   "name": "test-chat-eval"
  },
  "language_info": {
   "codemirror_mode": {
    "name": "ipython",
    "version": 3
   },
   "file_extension": ".py",
   "mimetype": "text/x-python",
   "name": "python",
   "nbconvert_exporter": "python",
   "pygments_lexer": "ipython3",
   "version": "3.12.5"
  }
 },
 "nbformat": 4,
 "nbformat_minor": 4
}
